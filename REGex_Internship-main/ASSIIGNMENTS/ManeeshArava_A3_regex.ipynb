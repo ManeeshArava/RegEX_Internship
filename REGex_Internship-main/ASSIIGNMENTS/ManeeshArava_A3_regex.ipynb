{
 "cells": [
  {
   "cell_type": "code",
   "execution_count": 1,
   "id": "93a7e451",
   "metadata": {},
   "outputs": [],
   "source": [
    "def fibonacci(n):# Finding fibonacci series of given no.\n",
    "    a = 0\n",
    "    b = 1\n",
    "    if n < 0:\n",
    "        print(\"Incorrect input\")\n",
    "    elif n == 0:\n",
    "        return a\n",
    "    elif n == 1:\n",
    "        return b\n",
    "    else:\n",
    "        for i in range(2, n):\n",
    "            c = a + b\n",
    "            a = b\n",
    "            b = c\n",
    "        return b"
   ]
  },
  {
   "cell_type": "code",
   "execution_count": 4,
   "id": "c4b79dd8",
   "metadata": {},
   "outputs": [
    {
     "name": "stdout",
     "output_type": "stream",
     "text": [
      "13\n"
     ]
    }
   ],
   "source": [
    "print(fibonacci(8))"
   ]
  },
  {
   "cell_type": "code",
   "execution_count": 5,
   "id": "146e754c",
   "metadata": {},
   "outputs": [],
   "source": [
    "def hcf(a, b): #Calculating gcd of given numbers\n",
    "    if(b == 0):\n",
    "        return a\n",
    "    else:\n",
    "        return hcf(b, a % b)"
   ]
  },
  {
   "cell_type": "code",
   "execution_count": 6,
   "id": "c2cef3df",
   "metadata": {},
   "outputs": [
    {
     "name": "stdout",
     "output_type": "stream",
     "text": [
      "The gcd of 60 and 48 is : 12\n"
     ]
    }
   ],
   "source": [
    "a = 60\n",
    "b = 48\n",
    "print(\"The gcd of 60 and 48 is : \", end=\"\")\n",
    "print(hcf(60, 48))"
   ]
  },
  {
   "cell_type": "code",
   "execution_count": 8,
   "id": "b4c6e9f1",
   "metadata": {},
   "outputs": [],
   "source": [
    "def gcd(a,b): # Recursive function to return gcd of a and b\n",
    "    if a == 0:\n",
    "        return b\n",
    "    return gcd(b % a, a)\n",
    "\n",
    "def lcm(a,b): # Function to return LCM of two numbers\n",
    "    return (a / gcd(a,b))* b\n"
   ]
  },
  {
   "cell_type": "code",
   "execution_count": 9,
   "id": "03170af6",
   "metadata": {},
   "outputs": [
    {
     "name": "stdout",
     "output_type": "stream",
     "text": [
      "LCM of 15 and 20 is 60.0\n"
     ]
    }
   ],
   "source": [
    "a = 15\n",
    "b = 20\n",
    "print('LCM of', a, 'and', b, 'is', lcm(a, b))"
   ]
  }
 ],
 "metadata": {
  "kernelspec": {
   "display_name": "Python 3",
   "language": "python",
   "name": "python3"
  },
  "language_info": {
   "codemirror_mode": {
    "name": "ipython",
    "version": 3
   },
   "file_extension": ".py",
   "mimetype": "text/x-python",
   "name": "python",
   "nbconvert_exporter": "python",
   "pygments_lexer": "ipython3",
   "version": "3.8.8"
  }
 },
 "nbformat": 4,
 "nbformat_minor": 5
}
