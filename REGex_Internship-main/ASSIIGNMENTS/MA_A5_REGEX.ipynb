{
 "cells": [
  {
   "cell_type": "code",
   "execution_count": 43,
   "id": "88840c7c",
   "metadata": {},
   "outputs": [
    {
     "name": "stdout",
     "output_type": "stream",
     "text": [
      "3 5 8 77 564 9\n",
      "sum of primes 8\n"
     ]
    }
   ],
   "source": [
    "#read a single line containing space-separated integer\n",
    "numbersStr=input(\"\").split(' ')\n",
    "sumPN=0\n",
    "for number in numbersStr:\n",
    "    number=int(number)\n",
    "    is_prime=True\n",
    "    if number > 1:\n",
    "        for i in range(2, number):\n",
    "            if (number % i) == 0:\n",
    "                is_prime=False\n",
    "                break\n",
    "        if is_prime:\n",
    "            #calculate the sum of all prime numbers from 1 to N.\n",
    "            sumPN=sumPN+number\n",
    "\n",
    "\n",
    "#Display the result\n",
    "print('sum of primes',str(sumPN))\n"
   ]
  },
  {
   "cell_type": "code",
   "execution_count": 44,
   "id": "eb24377f",
   "metadata": {},
   "outputs": [
    {
     "name": "stdout",
     "output_type": "stream",
     "text": [
      "Original list : [1, 4, 5, 7, 8, -2]\n",
      "Is list strictly increasing ? : True\n"
     ]
    }
   ],
   "source": [
    "# Python3 code to demonstrate \n",
    "# to check for strictly increasing list\n",
    "# using reduce() + lambda\n",
    "  \n",
    "# initializing list\n",
    "test_list = [1, 4, 5, 7, 8, -2]\n",
    "  \n",
    "# printing original lists\n",
    "print (\"Original list : \" + str(test_list))\n",
    "  \n",
    "# using reduce() + lambda\n",
    "# to check for strictly increasing list\n",
    "res = bool(lambda test_list: reduce(lambda i, j: j if \n",
    "                 i < j else 9999, test_list) != 9999)\n",
    "  \n",
    "# printing result\n",
    "print (\"Is list strictly increasing ? : \" + str(res))"
   ]
  },
  {
   "cell_type": "code",
   "execution_count": 45,
   "id": "559995a6",
   "metadata": {},
   "outputs": [
    {
     "data": {
      "text/plain": [
       "False"
      ]
     },
     "execution_count": 45,
     "metadata": {},
     "output_type": "execute_result"
    }
   ],
   "source": [
    "def expanding(l):\n",
    "    for i in range(0,len(l)-2):\n",
    "        if (abs(l[i+2]-l[i+1])>abs(l[i+1]-l[i])):\n",
    "            Answer=True\n",
    "        else:\n",
    "            Answer=False\n",
    "            return Answer\n",
    "    return Answer\n",
    "\n",
    "expanding([1,3,7,2,-3,4]) "
   ]
  },
  {
   "cell_type": "code",
   "execution_count": 46,
   "id": "343879a1",
   "metadata": {},
   "outputs": [
    {
     "name": "stdout",
     "output_type": "stream",
     "text": [
      "Enter the string : USA\n",
      "All possible strings are : \n",
      "USA  UAS  SUA  SAU  AUS  ASU  "
     ]
    }
   ],
   "source": [
    "def permute(s, answer):\n",
    "    if (len(s) == 0):\n",
    "        print(answer, end = \"  \")\n",
    "        return\n",
    "     \n",
    "    for i in range(len(s)):\n",
    "        ch = s[i]\n",
    "        left_substr = s[0:i]\n",
    "        right_substr = s[i + 1:]\n",
    "        rest = left_substr + right_substr\n",
    "        permute(rest, answer + ch)\n",
    "\n",
    "#Driver Code\n",
    "answer = \"\"\n",
    " \n",
    "s = input(\"Enter the string : \")\n",
    " \n",
    "print(\"All possible strings are : \")\n",
    "permute(s, answer)"
   ]
  }
 ],
 "metadata": {
  "kernelspec": {
   "display_name": "Python 3",
   "language": "python",
   "name": "python3"
  },
  "language_info": {
   "codemirror_mode": {
    "name": "ipython",
    "version": 3
   },
   "file_extension": ".py",
   "mimetype": "text/x-python",
   "name": "python",
   "nbconvert_exporter": "python",
   "pygments_lexer": "ipython3",
   "version": "3.8.8"
  }
 },
 "nbformat": 4,
 "nbformat_minor": 5
}
